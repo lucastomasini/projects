{
 "cells": [
  {
   "cell_type": "markdown",
   "metadata": {},
   "source": [
    "# Curso ECI - NLP - Trabajo práctico\n",
    "### Lucas Tomasini"
   ]
  },
  {
   "cell_type": "code",
   "execution_count": 592,
   "metadata": {},
   "outputs": [],
   "source": [
    "import fasttext\n",
    "import re\n",
    "import os"
   ]
  },
  {
   "cell_type": "markdown",
   "metadata": {},
   "source": [
    "Uso read_data.py para cargar los datos de train, dev y test a utilizar"
   ]
  },
  {
   "cell_type": "code",
   "execution_count": 593,
   "metadata": {},
   "outputs": [
    {
     "data": {
      "text/plain": [
       "0"
      ]
     },
     "execution_count": 593,
     "metadata": {},
     "output_type": "execute_result"
    }
   ],
   "source": [
    "os.system(\"python3 read_data.py snli_1.0/snli_1.0_train_filtered.jsonl --labels snli_1.0/snli_1.0_train_gold_labels.csv output_files/train.txt\")\n",
    "os.system(\"python3 read_data.py snli_1.0/snli_1.0_dev_filtered.jsonl --labels snli_1.0/snli_1.0_dev_gold_labels.csv output_files/dev.txt\")\n",
    "\n",
    "# Archivo test.txt, solamente las oraciones sin los labels\n",
    "os.system(\"python3 read_data.py snli_1.0/snli_1.0_test_filtered.jsonl output_files/test.txt\")"
   ]
  },
  {
   "cell_type": "markdown",
   "metadata": {},
   "source": [
    "Limpieza de texto:"
   ]
  },
  {
   "cell_type": "code",
   "execution_count": 594,
   "metadata": {},
   "outputs": [],
   "source": [
    "def process_text(input_name, output_name):\n",
    "    fout = open(output_name, 'w')  \n",
    "\n",
    "    with open(input_name, 'r') as fin:\n",
    "        for row in fin:\n",
    "            text = row.lower() # Paso a minúscula\n",
    "            text = re.sub(r\"[.]\", \"\", text) # Elimino los puntos\n",
    "            text = re.sub(r\"([,;])\", \" ,\", text) # Despego comas y puntos y comas de las palabras\n",
    "            text = re.sub(r\"can't\", r\"can not\", text) # Separo las contracciones en las negaciones\n",
    "            text = re.sub(r\"n't\", r\" not\", text)\n",
    "            text = re.sub(r\"'s\", r\" 's\", text) # Separo apostrofe 's\n",
    "            text = re.sub(r\"[-/]\", \" \", text)\n",
    "            text = re.sub(r\"' \", \" \", text)\n",
    "            text = re.sub(r\"[\\s]+\", \" \", text)\n",
    "\n",
    "            #text = re.sub(r'\\W*\\b\\w{1,3}\\b', '', text)\n",
    "            text = text.strip()\n",
    "            fout.write(text + os.linesep)\n",
    "\n",
    "    fout.close()"
   ]
  },
  {
   "cell_type": "markdown",
   "metadata": {},
   "source": [
    "Guardo archivos procesados, que se van a usar para entrenar y evaluar los modelos"
   ]
  },
  {
   "cell_type": "code",
   "execution_count": 595,
   "metadata": {},
   "outputs": [],
   "source": [
    "process_text(\"output_files/train.txt\", \"output_files/train.processed.txt\")\n",
    "process_text(\"output_files/dev.txt\", \"output_files/dev.processed.txt\")\n",
    "\n",
    "# Solamente las oraciones, sin los labels\n",
    "process_text(\"output_files/test.txt\", \"output_files/test.processed.txt\")"
   ]
  },
  {
   "cell_type": "markdown",
   "metadata": {},
   "source": [
    "Entreno usando train.processed.txt, y evalúo con dev.processed.txt para ajustar hiperparámetros"
   ]
  },
  {
   "cell_type": "code",
   "execution_count": 596,
   "metadata": {},
   "outputs": [],
   "source": [
    "model = fasttext.train_supervised(\"output_files/train.processed.txt\", wordNgrams=2, lr=.1, ws=5, epoch=5, dim = 100, neg=5, bucket=2000000)"
   ]
  },
  {
   "cell_type": "code",
   "execution_count": 597,
   "metadata": {},
   "outputs": [
    {
     "name": "stdout",
     "output_type": "stream",
     "text": [
      "Cantidad de palabras:\t9842\n",
      "Precision:\t\t0.6769\n"
     ]
    }
   ],
   "source": [
    "def print_results(N, p):\n",
    "    print(\"Cantidad de palabras:\\t\" + str(N))\n",
    "    print(\"Precision:\\t\\t{:.4f}\".format(p))\n",
    "\n",
    "res = model.test(\"output_files/dev.processed.txt\")\n",
    "    \n",
    "print_results(res[0], res[1])"
   ]
  },
  {
   "cell_type": "markdown",
   "metadata": {},
   "source": [
    "Uno los archivos de train y dev en uno solo:"
   ]
  },
  {
   "cell_type": "code",
   "execution_count": 598,
   "metadata": {},
   "outputs": [],
   "source": [
    "fout = open(\"output_files/train_dev.processed.txt\", \"w\")\n",
    "fnames = [\"output_files/train.processed.txt\", \"output_files/dev.processed.txt\"]\n",
    "\n",
    "for name in fnames:\n",
    "    fin = open(name, 'r')\n",
    "    fout.write(fin.read())"
   ]
  },
  {
   "cell_type": "markdown",
   "metadata": {},
   "source": [
    "Reentreno el modelo usando todos los datos: train + dev"
   ]
  },
  {
   "cell_type": "code",
   "execution_count": 599,
   "metadata": {},
   "outputs": [],
   "source": [
    "model = fasttext.train_supervised(\"output_files/train_dev.processed.txt\", wordNgrams=2, lr=.1, ws=5, epoch=5, dim = 100, neg=5, bucket=2000000)"
   ]
  },
  {
   "cell_type": "markdown",
   "metadata": {},
   "source": [
    "Guardo los labels predichos sobre el test en test_cls.txt"
   ]
  },
  {
   "cell_type": "code",
   "execution_count": 600,
   "metadata": {},
   "outputs": [],
   "source": [
    "with open(\"output_files/test.processed.txt\", 'r') as fin, open(\"output_files/test_cls.txt\", 'w') as fout:\n",
    "    for line in fin:\n",
    "        sentence = line.rstrip('\\n')\n",
    "        fout.write(model.predict(sentence)[0][0] + '\\n')"
   ]
  },
  {
   "cell_type": "markdown",
   "metadata": {},
   "source": [
    "Ejjecuto el script generate_answer.py para generar el resultado final en formato csv:"
   ]
  },
  {
   "cell_type": "code",
   "execution_count": 601,
   "metadata": {},
   "outputs": [
    {
     "data": {
      "text/plain": [
       "0"
      ]
     },
     "execution_count": 601,
     "metadata": {},
     "output_type": "execute_result"
    }
   ],
   "source": [
    "os.system(\"python3 generate_answer.py\")"
   ]
  }
 ],
 "metadata": {
  "kernelspec": {
   "display_name": "Python 3",
   "language": "python",
   "name": "python3"
  },
  "language_info": {
   "codemirror_mode": {
    "name": "ipython",
    "version": 3
   },
   "file_extension": ".py",
   "mimetype": "text/x-python",
   "name": "python",
   "nbconvert_exporter": "python",
   "pygments_lexer": "ipython3",
   "version": "3.7.3"
  }
 },
 "nbformat": 4,
 "nbformat_minor": 4
}
