{
 "cells": [
  {
   "cell_type": "markdown",
   "metadata": {},
   "source": [
    "# Deep Q-Learning para _Football_"
   ]
  },
  {
   "cell_type": "markdown",
   "metadata": {},
   "source": [
    "En esta notebook se implementará un agente capaz de resolver el escenario del entorno *Football* llamado *academy_empty_goal_close*. El objetivo es entrenar al agente para que consiga la mayor puntuación. El entrenamiento y posterior evaluación del agente se harán sin renderizar el entorno. Para visualizar el agente ya entrenado ejecutar la notebook [football_visualization.ipynb]."
   ]
  },
  {
   "cell_type": "markdown",
   "metadata": {},
   "source": [
    "Primero de todo, deshabilito los *warnings* de *logging*"
   ]
  },
  {
   "cell_type": "code",
   "execution_count": 14,
   "metadata": {},
   "outputs": [],
   "source": [
    "import logging\n",
    "logging.disable(logging.WARNING)"
   ]
  },
  {
   "cell_type": "markdown",
   "metadata": {},
   "source": [
    "## Creacion del entorno *Football*"
   ]
  },
  {
   "cell_type": "markdown",
   "metadata": {},
   "source": [
    "Entorno *academy_empty_goal_close*, representación de estados simple con *rewards* basados en cercania al arco rival y goles anotados:"
   ]
  },
  {
   "cell_type": "code",
   "execution_count": 15,
   "metadata": {},
   "outputs": [],
   "source": [
    "import gfootball.env as football_env\n",
    "\n",
    "env = football_env.create_environment(\n",
    "    env_name='academy_empty_goal_close', \n",
    "    stacked=False,                           # solo estado, no pixeles \n",
    "    representation='simple115',              # solo estado, no pixeles \n",
    "    with_checkpoints=True,\n",
    "    render=False)                             # no mostrar graficamente"
   ]
  },
  {
   "cell_type": "markdown",
   "metadata": {},
   "source": [
    "Visualizo las dimensiones del espacio de observaciones, de acciones y el rango de recompensas:"
   ]
  },
  {
   "cell_type": "code",
   "execution_count": 7,
   "metadata": {},
   "outputs": [
    {
     "name": "stdout",
     "output_type": "stream",
     "text": [
      "Box(115,)\n",
      "Discrete(21)\n",
      "(-inf, inf)\n"
     ]
    }
   ],
   "source": [
    "print(env.observation_space)\n",
    "print(env.action_space)\n",
    "print(env.reward_range)"
   ]
  },
  {
   "cell_type": "markdown",
   "metadata": {},
   "source": [
    "Cada estado es una tupla de 115 elementos, pero en la modalidad *academy_empty_goal_close* solo hay 51 elementos activos. El agente puede realizar 21 acciones."
   ]
  },
  {
   "cell_type": "code",
   "execution_count": 17,
   "metadata": {},
   "outputs": [],
   "source": [
    "from dqn_agent import Agent\n",
    "\n",
    "# Creo el agente\n",
    "agent = Agent(state_size=115, action_size=21, seed=0)"
   ]
  },
  {
   "cell_type": "markdown",
   "metadata": {},
   "source": [
    "Observemos el comportamiento inicial del agente no entrenado ejecutando 10 episodios y calculando la recompensa acumulada en cada uno de ellos:"
   ]
  },
  {
   "cell_type": "code",
   "execution_count": 18,
   "metadata": {},
   "outputs": [
    {
     "name": "stdout",
     "output_type": "stream",
     "text": [
      "Recompensa episodio 1: 0.90\n",
      "Recompensa episodio 2: 0.90\n",
      "Recompensa episodio 3: 0.90\n",
      "Recompensa episodio 4: 0.90\n",
      "Recompensa episodio 5: 0.90\n",
      "Recompensa episodio 6: 0.90\n",
      "Recompensa episodio 7: 0.90\n",
      "Recompensa episodio 8: 0.90\n",
      "Recompensa episodio 9: 0.90\n",
      "Recompensa episodio 10: 0.90\n"
     ]
    }
   ],
   "source": [
    "for i in range(1, 11):\n",
    "    observation = env.reset() # estado inicial\n",
    "    acc_reward = 0\n",
    "    \n",
    "    while True:\n",
    "        action = agent.act(observation) # genero accion siguiente a partir de estado actual\n",
    "        observation, reward, done, info = env.step(action) # ejecuto un paso\n",
    "        acc_reward += reward # acumulo recompensa de este paso\n",
    "    \n",
    "        if done:\n",
    "            break \n",
    "\n",
    "    print(\"Recompensa episodio {:d}: {:.2f}\".format(i, acc_reward))        \n",
    "\n",
    "env.close()"
   ]
  },
  {
   "cell_type": "markdown",
   "metadata": {},
   "source": [
    "El agente no entrenado obtiene siempre una recompensa de 0.9 solo por el hecho de empezar cerca de la porteria. Después patea afuera y termina el episodio.\n",
    "\n",
    "Después veremos que la **recompensa máxima para este escenario es 2.0**, que equivale a que el jugador avance un poco más hacia el arco (+0.1) y luego meta el gol (+1.0).\n"
   ]
  },
  {
   "cell_type": "markdown",
   "metadata": {},
   "source": [
    "## Algoritmo DQN\n",
    "A continuación se entrena el agente mediante una implementación genérica del algoritmo Deep Q-Learning (DQN). Se considera que el entorno *Football* está resuelto cuando se obtiene una recompensa media de 2.0 tomado durante 50 episodios consecutivos."
   ]
  },
  {
   "cell_type": "code",
   "execution_count": 19,
   "metadata": {},
   "outputs": [],
   "source": [
    "import gym\n",
    "import random\n",
    "import torch\n",
    "import numpy as np\n",
    "from collections import deque\n",
    "import matplotlib.pyplot as plt\n",
    "%matplotlib inline"
   ]
  },
  {
   "cell_type": "code",
   "execution_count": 22,
   "metadata": {},
   "outputs": [],
   "source": [
    "def dqn(n_episodes=2000, max_t=1000, eps_start=1.0, eps_end=0.01, eps_decay=0.995):\n",
    "    \"\"\"Deep Q-Learning.\n",
    "    \n",
    "    Params\n",
    "    ======\n",
    "        n_episodes (int): numero maximo de episodios de entrenamiento (n_episodios)\n",
    "        max_t (int): numero maximo de pasos por episodio (n_entrenamiento)\n",
    "        eps_start (float): valor inicial de epsilon\n",
    "        eps_end (float): valor final de epsilon\n",
    "        eps_decay (float): factor de multiplicacion (por episodio) de epsilon\n",
    "    \"\"\"\n",
    "    scores = []                        # puntuaciones de cada episodio\n",
    "    scores_window = deque(maxlen=50)  # puntuaciones de los ultimos 100 episodios\n",
    "    eps = eps_start                    # inicializar epsilon\n",
    "    for i_episode in range(1, n_episodes+1):\n",
    "        observation = env.reset()\n",
    "        score = 0\n",
    "        for t in range(max_t):\n",
    "            action = agent.act(observation, eps)\n",
    "            next_observation, reward, done, info = env.step(action)\n",
    "            agent.memory.add(observation, action, reward, next_observation, done)\n",
    "            agent.step(observation, action, reward, next_observation, done)\n",
    "            observation = next_observation\n",
    "            score += reward\n",
    "            \n",
    "            if done:\n",
    "                break \n",
    "\n",
    "        scores_window.append(score)       # guardar ultima puntuacion\n",
    "        scores.append(score)              # guardar ultima puntuacion\n",
    "        eps = max(eps_end, eps_decay*eps) # reducir epsilon\n",
    "        \n",
    "        print('\\rEpisodio {}\\tPuntuacion media (ultimos {:d}): {:.2f}'.format(i_episode, 50, np.mean(scores_window)), end=\"\")\n",
    "        if i_episode % 50 == 0:\n",
    "            print('\\rEpisodio {}\\tPuntuacion media ({:d} anteriores): {:.2f}'.format(i_episode, 50, np.mean(scores_window)))\n",
    "        if np.mean(scores_window)>=2.0:\n",
    "            print('\\nProblema resuelto en {:d} episodios!\\tPuntuacion media (ultimos {:d}): {:.2f}'.format(i_episode-50, 50, np.mean(scores_window)))\n",
    "            torch.save(agent.qnetwork_local.state_dict(), 'football.pth') # guardar pesos de agente entrenado\n",
    "            break\n",
    "    return scores"
   ]
  },
  {
   "cell_type": "code",
   "execution_count": 23,
   "metadata": {},
   "outputs": [
    {
     "name": "stdout",
     "output_type": "stream",
     "text": [
      "Episodio 50\tPuntuacion media (50 anteriores): 0.87\n",
      "Episodio 100\tPuntuacion media (50 anteriores): 0.98\n",
      "Episodio 150\tPuntuacion media (50 anteriores): 0.97\n",
      "Episodio 200\tPuntuacion media (50 anteriores): 1.10\n",
      "Episodio 250\tPuntuacion media (50 anteriores): 1.30\n",
      "Episodio 300\tPuntuacion media (50 anteriores): 1.58\n",
      "Episodio 350\tPuntuacion media (50 anteriores): 1.75\n",
      "Episodio 400\tPuntuacion media (50 anteriores): 1.85\n",
      "Episodio 450\tPuntuacion media (50 anteriores): 1.80\n",
      "Episodio 500\tPuntuacion media (50 anteriores): 1.88\n",
      "Episodio 550\tPuntuacion media (50 anteriores): 1.80\n",
      "Episodio 600\tPuntuacion media (50 anteriores): 1.91\n",
      "Episodio 650\tPuntuacion media (50 anteriores): 1.79\n",
      "Episodio 700\tPuntuacion media (50 anteriores): 1.93\n",
      "Episodio 750\tPuntuacion media (50 anteriores): 1.92\n",
      "Episodio 800\tPuntuacion media (50 anteriores): 1.96\n",
      "Episodio 827\tPuntuacion media (ultimos 50): 2.00\n",
      "Problema resuelto en 777 episodios!\tPuntuacion media (ultimos 50): 2.00\n"
     ]
    },
    {
     "data": {
      "image/png": "[encoded data removed]",
      "text/plain": [
       "<Figure size 432x288 with 1 Axes>"
      ]
     },
     "metadata": {
      "needs_background": "light"
     },
     "output_type": "display_data"
    }
   ],
   "source": [
    "scores = dqn()\n",
    "\n",
    "# plot the scores\n",
    "fig = plt.figure()\n",
    "ax = fig.add_subplot(111)\n",
    "plt.plot(np.arange(len(scores)), scores)\n",
    "plt.ylabel('Puntuacion')\n",
    "plt.xlabel('Episodio #')\n",
    "plt.show()"
   ]
  },
  {
   "cell_type": "markdown",
   "metadata": {},
   "source": [
    "## Evaluación del agente entrenado"
   ]
  },
  {
   "cell_type": "markdown",
   "metadata": {},
   "source": [
    "Podemos evaluar el comportamiento del agente entrenado cargando los pesos del archivo donde se han almacenado."
   ]
  },
  {
   "cell_type": "code",
   "execution_count": 20,
   "metadata": {},
   "outputs": [
    {
     "data": {
      "text/plain": [
       "<All keys matched successfully>"
      ]
     },
     "execution_count": 20,
     "metadata": {},
     "output_type": "execute_result"
    }
   ],
   "source": [
    "# cargar pesos del fichero `checkpoint.pth`\n",
    "agent.qnetwork_local.load_state_dict(torch.load('football.pth'))"
   ]
  },
  {
   "cell_type": "code",
   "execution_count": 12,
   "metadata": {},
   "outputs": [
    {
     "name": "stdout",
     "output_type": "stream",
     "text": [
      "Recompensa episodio 0: 2.00\n",
      "Recompensa episodio 1: 2.00\n",
      "Recompensa episodio 2: 2.00\n",
      "Recompensa episodio 3: 2.00\n",
      "Recompensa episodio 4: 2.00\n",
      "Recompensa episodio 5: 2.00\n",
      "Recompensa episodio 6: 2.00\n",
      "Recompensa episodio 7: 2.00\n",
      "Recompensa episodio 8: 2.00\n",
      "Recompensa episodio 9: 2.00\n",
      "Recompensa episodio 10: 2.00\n",
      "Recompensa episodio 11: 2.00\n",
      "Recompensa episodio 12: 2.00\n",
      "Recompensa episodio 13: 2.00\n",
      "Recompensa episodio 14: 2.00\n",
      "Recompensa episodio 15: 2.00\n",
      "Recompensa episodio 16: 2.00\n",
      "Recompensa episodio 17: 2.00\n",
      "Recompensa episodio 18: 2.00\n",
      "Recompensa episodio 19: 2.00\n",
      "Recompensa episodio 20: 2.00\n",
      "Recompensa episodio 21: 2.00\n",
      "Recompensa episodio 22: 2.00\n",
      "Recompensa episodio 23: 2.00\n",
      "Recompensa episodio 24: 2.00\n",
      "Recompensa episodio 25: 2.00\n",
      "Recompensa episodio 26: 2.00\n",
      "Recompensa episodio 27: 2.00\n",
      "Recompensa episodio 28: 2.00\n",
      "Recompensa episodio 29: 2.00\n",
      "Recompensa episodio 30: 2.00\n",
      "Recompensa episodio 31: 2.00\n",
      "Recompensa episodio 32: 2.00\n",
      "Recompensa episodio 33: 2.00\n",
      "Recompensa episodio 34: 2.00\n",
      "Recompensa episodio 35: 2.00\n",
      "Recompensa episodio 36: 2.00\n",
      "Recompensa episodio 37: 2.00\n",
      "Recompensa episodio 38: 2.00\n",
      "Recompensa episodio 39: 2.00\n",
      "Recompensa episodio 40: 2.00\n",
      "Recompensa episodio 41: 2.00\n",
      "Recompensa episodio 42: 2.00\n",
      "Recompensa episodio 43: 2.00\n",
      "Recompensa episodio 44: 2.00\n",
      "Recompensa episodio 45: 2.00\n",
      "Recompensa episodio 46: 2.00\n",
      "Recompensa episodio 47: 2.00\n",
      "Recompensa episodio 48: 2.00\n",
      "Recompensa episodio 49: 2.00\n"
     ]
    }
   ],
   "source": [
    "acc_reward = 0\n",
    "\n",
    "for i in range(50):\n",
    "    observation = env.reset()\n",
    "    done = False\n",
    "    \n",
    "    while not done:\n",
    "        action = agent.act(observation)\n",
    "        observation, reward, done, info = env.step(action)\n",
    "        acc_reward += reward\n",
    "\n",
    "print(\"Recompensa media durante 50 episodios: {:.2f}\".format(acc_reward))        \n",
    "\n",
    "env.close()"
   ]
  },
  {
   "cell_type": "code",
   "execution_count": null,
   "metadata": {},
   "outputs": [],
   "source": []
  }
 ],
 "metadata": {
  "kernelspec": {
   "display_name": "Python 3",
   "language": "python",
   "name": "python3"
  },
  "language_info": {
   "codemirror_mode": {
    "name": "ipython",
    "version": 3
   },
   "file_extension": ".py",
   "mimetype": "text/x-python",
   "name": "python",
   "nbconvert_exporter": "python",
   "pygments_lexer": "ipython3",
   "version": "3.7.3"
  }
 },
 "nbformat": 4,
 "nbformat_minor": 4
}
